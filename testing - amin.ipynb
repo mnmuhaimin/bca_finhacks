{
 "cells": [
  {
   "cell_type": "code",
   "execution_count": 1,
   "metadata": {
    "ExecuteTime": {
     "end_time": "2018-09-02T11:44:56.868880Z",
     "start_time": "2018-09-02T11:44:56.044085Z"
    }
   },
   "outputs": [],
   "source": [
    "import pandas as pd\n",
    "import numpy as np\n",
    "import matplotlib.pyplot as plt\n",
    "import seaborn as sns\n",
    "\n",
    "from sklearn.metrics import accuracy_score, roc_auc_score, precision_score, recall_score"
   ]
  },
  {
   "cell_type": "code",
   "execution_count": 29,
   "metadata": {
    "ExecuteTime": {
     "end_time": "2018-09-02T12:14:56.448121Z",
     "start_time": "2018-09-02T12:14:56.427923Z"
    },
    "scrolled": true
   },
   "outputs": [],
   "source": [
    "train1 = pd.read_csv('dataset1/train1.csv')\n",
    "test1 = pd.read_csv('dataset1/test1.csv')\n",
    "train2 = pd.read_csv('dataset2/train2.csv')\n",
    "test2 = pd.read_csv('dataset2/test2.csv')"
   ]
  },
  {
   "cell_type": "code",
   "execution_count": 4,
   "metadata": {
    "ExecuteTime": {
     "end_time": "2018-09-02T12:11:18.461046Z",
     "start_time": "2018-09-02T12:11:18.441742Z"
    }
   },
   "outputs": [
    {
     "data": {
      "text/html": [
       "<div>\n",
       "<style scoped>\n",
       "    .dataframe tbody tr th:only-of-type {\n",
       "        vertical-align: middle;\n",
       "    }\n",
       "\n",
       "    .dataframe tbody tr th {\n",
       "        vertical-align: top;\n",
       "    }\n",
       "\n",
       "    .dataframe thead th {\n",
       "        text-align: right;\n",
       "    }\n",
       "</style>\n",
       "<table border=\"1\" class=\"dataframe\">\n",
       "  <thead>\n",
       "    <tr style=\"text-align: right;\">\n",
       "      <th></th>\n",
       "      <th>Unnamed: 0</th>\n",
       "      <th>initial_list_status</th>\n",
       "      <th>purpose</th>\n",
       "      <th>int_rate</th>\n",
       "      <th>installment</th>\n",
       "      <th>annual_inc</th>\n",
       "      <th>dti</th>\n",
       "      <th>verification_status</th>\n",
       "      <th>grade</th>\n",
       "      <th>revol_bal</th>\n",
       "      <th>inq_last_12m</th>\n",
       "      <th>delinq_2yrs</th>\n",
       "      <th>home_ownership</th>\n",
       "      <th>not_paid</th>\n",
       "      <th>log_inc</th>\n",
       "      <th>verified</th>\n",
       "      <th>grdCtoA</th>\n",
       "    </tr>\n",
       "  </thead>\n",
       "  <tbody>\n",
       "    <tr>\n",
       "      <th>0</th>\n",
       "      <td>1495</td>\n",
       "      <td>w</td>\n",
       "      <td>debt_consolidation</td>\n",
       "      <td>21.45</td>\n",
       "      <td>955.75</td>\n",
       "      <td>90000.0</td>\n",
       "      <td>20.91</td>\n",
       "      <td>Verified</td>\n",
       "      <td>D</td>\n",
       "      <td>23448</td>\n",
       "      <td>4</td>\n",
       "      <td>0</td>\n",
       "      <td>MORTGAGE</td>\n",
       "      <td>1</td>\n",
       "      <td>11.407565</td>\n",
       "      <td>1</td>\n",
       "      <td>0</td>\n",
       "    </tr>\n",
       "    <tr>\n",
       "      <th>1</th>\n",
       "      <td>266</td>\n",
       "      <td>w</td>\n",
       "      <td>debt_consolidation</td>\n",
       "      <td>18.06</td>\n",
       "      <td>289.47</td>\n",
       "      <td>65000.0</td>\n",
       "      <td>12.74</td>\n",
       "      <td>Source Verified</td>\n",
       "      <td>D</td>\n",
       "      <td>13362</td>\n",
       "      <td>2</td>\n",
       "      <td>0</td>\n",
       "      <td>MORTGAGE</td>\n",
       "      <td>1</td>\n",
       "      <td>11.082143</td>\n",
       "      <td>1</td>\n",
       "      <td>0</td>\n",
       "    </tr>\n",
       "    <tr>\n",
       "      <th>2</th>\n",
       "      <td>309</td>\n",
       "      <td>w</td>\n",
       "      <td>home_improvement</td>\n",
       "      <td>9.44</td>\n",
       "      <td>838.91</td>\n",
       "      <td>97400.0</td>\n",
       "      <td>12.64</td>\n",
       "      <td>Source Verified</td>\n",
       "      <td>B</td>\n",
       "      <td>2372</td>\n",
       "      <td>1</td>\n",
       "      <td>0</td>\n",
       "      <td>MORTGAGE</td>\n",
       "      <td>1</td>\n",
       "      <td>11.486581</td>\n",
       "      <td>1</td>\n",
       "      <td>1</td>\n",
       "    </tr>\n",
       "    <tr>\n",
       "      <th>3</th>\n",
       "      <td>239</td>\n",
       "      <td>w</td>\n",
       "      <td>home_improvement</td>\n",
       "      <td>10.42</td>\n",
       "      <td>214.55</td>\n",
       "      <td>60000.0</td>\n",
       "      <td>2.38</td>\n",
       "      <td>Not Verified</td>\n",
       "      <td>B</td>\n",
       "      <td>4705</td>\n",
       "      <td>2</td>\n",
       "      <td>0</td>\n",
       "      <td>OWN</td>\n",
       "      <td>0</td>\n",
       "      <td>11.002100</td>\n",
       "      <td>0</td>\n",
       "      <td>1</td>\n",
       "    </tr>\n",
       "    <tr>\n",
       "      <th>4</th>\n",
       "      <td>136</td>\n",
       "      <td>f</td>\n",
       "      <td>debt_consolidation</td>\n",
       "      <td>11.99</td>\n",
       "      <td>1024.52</td>\n",
       "      <td>150000.0</td>\n",
       "      <td>20.84</td>\n",
       "      <td>Not Verified</td>\n",
       "      <td>B</td>\n",
       "      <td>14342</td>\n",
       "      <td>0</td>\n",
       "      <td>0</td>\n",
       "      <td>MORTGAGE</td>\n",
       "      <td>0</td>\n",
       "      <td>11.918391</td>\n",
       "      <td>0</td>\n",
       "      <td>1</td>\n",
       "    </tr>\n",
       "  </tbody>\n",
       "</table>\n",
       "</div>"
      ],
      "text/plain": [
       "   Unnamed: 0 initial_list_status             purpose  int_rate  installment  \\\n",
       "0        1495                   w  debt_consolidation     21.45       955.75   \n",
       "1         266                   w  debt_consolidation     18.06       289.47   \n",
       "2         309                   w    home_improvement      9.44       838.91   \n",
       "3         239                   w    home_improvement     10.42       214.55   \n",
       "4         136                   f  debt_consolidation     11.99      1024.52   \n",
       "\n",
       "   annual_inc    dti verification_status grade  revol_bal  inq_last_12m  \\\n",
       "0     90000.0  20.91            Verified     D      23448             4   \n",
       "1     65000.0  12.74     Source Verified     D      13362             2   \n",
       "2     97400.0  12.64     Source Verified     B       2372             1   \n",
       "3     60000.0   2.38        Not Verified     B       4705             2   \n",
       "4    150000.0  20.84        Not Verified     B      14342             0   \n",
       "\n",
       "   delinq_2yrs home_ownership  not_paid    log_inc  verified  grdCtoA  \n",
       "0            0       MORTGAGE         1  11.407565         1        0  \n",
       "1            0       MORTGAGE         1  11.082143         1        0  \n",
       "2            0       MORTGAGE         1  11.486581         1        1  \n",
       "3            0            OWN         0  11.002100         0        1  \n",
       "4            0       MORTGAGE         0  11.918391         0        1  "
      ]
     },
     "execution_count": 4,
     "metadata": {},
     "output_type": "execute_result"
    }
   ],
   "source": [
    "train1.head()"
   ]
  },
  {
   "cell_type": "code",
   "execution_count": 5,
   "metadata": {
    "ExecuteTime": {
     "end_time": "2018-09-02T12:11:18.768531Z",
     "start_time": "2018-09-02T12:11:18.749448Z"
    }
   },
   "outputs": [
    {
     "data": {
      "text/html": [
       "<div>\n",
       "<style scoped>\n",
       "    .dataframe tbody tr th:only-of-type {\n",
       "        vertical-align: middle;\n",
       "    }\n",
       "\n",
       "    .dataframe tbody tr th {\n",
       "        vertical-align: top;\n",
       "    }\n",
       "\n",
       "    .dataframe thead th {\n",
       "        text-align: right;\n",
       "    }\n",
       "</style>\n",
       "<table border=\"1\" class=\"dataframe\">\n",
       "  <thead>\n",
       "    <tr style=\"text-align: right;\">\n",
       "      <th></th>\n",
       "      <th>Unnamed: 0</th>\n",
       "      <th>int_rate</th>\n",
       "      <th>installment</th>\n",
       "      <th>annual_inc</th>\n",
       "      <th>dti</th>\n",
       "      <th>revol_bal</th>\n",
       "      <th>inq_last_12m</th>\n",
       "      <th>delinq_2yrs</th>\n",
       "      <th>not_paid</th>\n",
       "      <th>log_inc</th>\n",
       "      <th>verified</th>\n",
       "      <th>grdCtoA</th>\n",
       "    </tr>\n",
       "  </thead>\n",
       "  <tbody>\n",
       "    <tr>\n",
       "      <th>Unnamed: 0</th>\n",
       "      <td>1.000000</td>\n",
       "      <td>-0.046715</td>\n",
       "      <td>0.002712</td>\n",
       "      <td>0.002880</td>\n",
       "      <td>-0.026111</td>\n",
       "      <td>-0.030930</td>\n",
       "      <td>-0.014902</td>\n",
       "      <td>0.025071</td>\n",
       "      <td>0.020646</td>\n",
       "      <td>0.015489</td>\n",
       "      <td>-0.034222</td>\n",
       "      <td>0.042631</td>\n",
       "    </tr>\n",
       "    <tr>\n",
       "      <th>int_rate</th>\n",
       "      <td>-0.046715</td>\n",
       "      <td>1.000000</td>\n",
       "      <td>0.247354</td>\n",
       "      <td>-0.036179</td>\n",
       "      <td>0.208936</td>\n",
       "      <td>0.093976</td>\n",
       "      <td>0.103199</td>\n",
       "      <td>0.060997</td>\n",
       "      <td>0.160727</td>\n",
       "      <td>-0.082376</td>\n",
       "      <td>0.193488</td>\n",
       "      <td>-0.738046</td>\n",
       "    </tr>\n",
       "    <tr>\n",
       "      <th>installment</th>\n",
       "      <td>0.002712</td>\n",
       "      <td>0.247354</td>\n",
       "      <td>1.000000</td>\n",
       "      <td>0.295911</td>\n",
       "      <td>0.097890</td>\n",
       "      <td>0.267821</td>\n",
       "      <td>0.048261</td>\n",
       "      <td>0.011995</td>\n",
       "      <td>0.148875</td>\n",
       "      <td>0.352338</td>\n",
       "      <td>0.186881</td>\n",
       "      <td>-0.149601</td>\n",
       "    </tr>\n",
       "    <tr>\n",
       "      <th>annual_inc</th>\n",
       "      <td>0.002880</td>\n",
       "      <td>-0.036179</td>\n",
       "      <td>0.295911</td>\n",
       "      <td>1.000000</td>\n",
       "      <td>-0.180486</td>\n",
       "      <td>0.358968</td>\n",
       "      <td>0.131214</td>\n",
       "      <td>-0.025139</td>\n",
       "      <td>-0.058832</td>\n",
       "      <td>0.805361</td>\n",
       "      <td>0.054814</td>\n",
       "      <td>0.032094</td>\n",
       "    </tr>\n",
       "    <tr>\n",
       "      <th>dti</th>\n",
       "      <td>-0.026111</td>\n",
       "      <td>0.208936</td>\n",
       "      <td>0.097890</td>\n",
       "      <td>-0.180486</td>\n",
       "      <td>1.000000</td>\n",
       "      <td>0.200485</td>\n",
       "      <td>0.023092</td>\n",
       "      <td>-0.074390</td>\n",
       "      <td>0.077928</td>\n",
       "      <td>-0.283746</td>\n",
       "      <td>0.056063</td>\n",
       "      <td>-0.176415</td>\n",
       "    </tr>\n",
       "    <tr>\n",
       "      <th>revol_bal</th>\n",
       "      <td>-0.030930</td>\n",
       "      <td>0.093976</td>\n",
       "      <td>0.267821</td>\n",
       "      <td>0.358968</td>\n",
       "      <td>0.200485</td>\n",
       "      <td>1.000000</td>\n",
       "      <td>-0.024060</td>\n",
       "      <td>-0.060051</td>\n",
       "      <td>0.008821</td>\n",
       "      <td>0.352427</td>\n",
       "      <td>0.070175</td>\n",
       "      <td>-0.076575</td>\n",
       "    </tr>\n",
       "    <tr>\n",
       "      <th>inq_last_12m</th>\n",
       "      <td>-0.014902</td>\n",
       "      <td>0.103199</td>\n",
       "      <td>0.048261</td>\n",
       "      <td>0.131214</td>\n",
       "      <td>0.023092</td>\n",
       "      <td>-0.024060</td>\n",
       "      <td>1.000000</td>\n",
       "      <td>-0.014859</td>\n",
       "      <td>-0.002147</td>\n",
       "      <td>0.142970</td>\n",
       "      <td>0.110909</td>\n",
       "      <td>-0.106573</td>\n",
       "    </tr>\n",
       "    <tr>\n",
       "      <th>delinq_2yrs</th>\n",
       "      <td>0.025071</td>\n",
       "      <td>0.060997</td>\n",
       "      <td>0.011995</td>\n",
       "      <td>-0.025139</td>\n",
       "      <td>-0.074390</td>\n",
       "      <td>-0.060051</td>\n",
       "      <td>-0.014859</td>\n",
       "      <td>1.000000</td>\n",
       "      <td>0.094444</td>\n",
       "      <td>-0.008682</td>\n",
       "      <td>0.019299</td>\n",
       "      <td>-0.072809</td>\n",
       "    </tr>\n",
       "    <tr>\n",
       "      <th>not_paid</th>\n",
       "      <td>0.020646</td>\n",
       "      <td>0.160727</td>\n",
       "      <td>0.148875</td>\n",
       "      <td>-0.058832</td>\n",
       "      <td>0.077928</td>\n",
       "      <td>0.008821</td>\n",
       "      <td>-0.002147</td>\n",
       "      <td>0.094444</td>\n",
       "      <td>1.000000</td>\n",
       "      <td>-0.053348</td>\n",
       "      <td>0.101174</td>\n",
       "      <td>-0.153679</td>\n",
       "    </tr>\n",
       "    <tr>\n",
       "      <th>log_inc</th>\n",
       "      <td>0.015489</td>\n",
       "      <td>-0.082376</td>\n",
       "      <td>0.352338</td>\n",
       "      <td>0.805361</td>\n",
       "      <td>-0.283746</td>\n",
       "      <td>0.352427</td>\n",
       "      <td>0.142970</td>\n",
       "      <td>-0.008682</td>\n",
       "      <td>-0.053348</td>\n",
       "      <td>1.000000</td>\n",
       "      <td>0.007769</td>\n",
       "      <td>0.063656</td>\n",
       "    </tr>\n",
       "    <tr>\n",
       "      <th>verified</th>\n",
       "      <td>-0.034222</td>\n",
       "      <td>0.193488</td>\n",
       "      <td>0.186881</td>\n",
       "      <td>0.054814</td>\n",
       "      <td>0.056063</td>\n",
       "      <td>0.070175</td>\n",
       "      <td>0.110909</td>\n",
       "      <td>0.019299</td>\n",
       "      <td>0.101174</td>\n",
       "      <td>0.007769</td>\n",
       "      <td>1.000000</td>\n",
       "      <td>-0.179431</td>\n",
       "    </tr>\n",
       "    <tr>\n",
       "      <th>grdCtoA</th>\n",
       "      <td>0.042631</td>\n",
       "      <td>-0.738046</td>\n",
       "      <td>-0.149601</td>\n",
       "      <td>0.032094</td>\n",
       "      <td>-0.176415</td>\n",
       "      <td>-0.076575</td>\n",
       "      <td>-0.106573</td>\n",
       "      <td>-0.072809</td>\n",
       "      <td>-0.153679</td>\n",
       "      <td>0.063656</td>\n",
       "      <td>-0.179431</td>\n",
       "      <td>1.000000</td>\n",
       "    </tr>\n",
       "  </tbody>\n",
       "</table>\n",
       "</div>"
      ],
      "text/plain": [
       "              Unnamed: 0  int_rate  installment  annual_inc       dti  \\\n",
       "Unnamed: 0      1.000000 -0.046715     0.002712    0.002880 -0.026111   \n",
       "int_rate       -0.046715  1.000000     0.247354   -0.036179  0.208936   \n",
       "installment     0.002712  0.247354     1.000000    0.295911  0.097890   \n",
       "annual_inc      0.002880 -0.036179     0.295911    1.000000 -0.180486   \n",
       "dti            -0.026111  0.208936     0.097890   -0.180486  1.000000   \n",
       "revol_bal      -0.030930  0.093976     0.267821    0.358968  0.200485   \n",
       "inq_last_12m   -0.014902  0.103199     0.048261    0.131214  0.023092   \n",
       "delinq_2yrs     0.025071  0.060997     0.011995   -0.025139 -0.074390   \n",
       "not_paid        0.020646  0.160727     0.148875   -0.058832  0.077928   \n",
       "log_inc         0.015489 -0.082376     0.352338    0.805361 -0.283746   \n",
       "verified       -0.034222  0.193488     0.186881    0.054814  0.056063   \n",
       "grdCtoA         0.042631 -0.738046    -0.149601    0.032094 -0.176415   \n",
       "\n",
       "              revol_bal  inq_last_12m  delinq_2yrs  not_paid   log_inc  \\\n",
       "Unnamed: 0    -0.030930     -0.014902     0.025071  0.020646  0.015489   \n",
       "int_rate       0.093976      0.103199     0.060997  0.160727 -0.082376   \n",
       "installment    0.267821      0.048261     0.011995  0.148875  0.352338   \n",
       "annual_inc     0.358968      0.131214    -0.025139 -0.058832  0.805361   \n",
       "dti            0.200485      0.023092    -0.074390  0.077928 -0.283746   \n",
       "revol_bal      1.000000     -0.024060    -0.060051  0.008821  0.352427   \n",
       "inq_last_12m  -0.024060      1.000000    -0.014859 -0.002147  0.142970   \n",
       "delinq_2yrs   -0.060051     -0.014859     1.000000  0.094444 -0.008682   \n",
       "not_paid       0.008821     -0.002147     0.094444  1.000000 -0.053348   \n",
       "log_inc        0.352427      0.142970    -0.008682 -0.053348  1.000000   \n",
       "verified       0.070175      0.110909     0.019299  0.101174  0.007769   \n",
       "grdCtoA       -0.076575     -0.106573    -0.072809 -0.153679  0.063656   \n",
       "\n",
       "              verified   grdCtoA  \n",
       "Unnamed: 0   -0.034222  0.042631  \n",
       "int_rate      0.193488 -0.738046  \n",
       "installment   0.186881 -0.149601  \n",
       "annual_inc    0.054814  0.032094  \n",
       "dti           0.056063 -0.176415  \n",
       "revol_bal     0.070175 -0.076575  \n",
       "inq_last_12m  0.110909 -0.106573  \n",
       "delinq_2yrs   0.019299 -0.072809  \n",
       "not_paid      0.101174 -0.153679  \n",
       "log_inc       0.007769  0.063656  \n",
       "verified      1.000000 -0.179431  \n",
       "grdCtoA      -0.179431  1.000000  "
      ]
     },
     "execution_count": 5,
     "metadata": {},
     "output_type": "execute_result"
    }
   ],
   "source": [
    "train1.corr()"
   ]
  },
  {
   "cell_type": "code",
   "execution_count": 6,
   "metadata": {
    "ExecuteTime": {
     "end_time": "2018-09-02T12:11:19.509549Z",
     "start_time": "2018-09-02T12:11:19.505289Z"
    }
   },
   "outputs": [
    {
     "data": {
      "text/plain": [
       "array(['debt_consolidation', 'home_improvement', 'credit_card',\n",
       "       'small_business', 'major_purchase'], dtype=object)"
      ]
     },
     "execution_count": 6,
     "metadata": {},
     "output_type": "execute_result"
    }
   ],
   "source": [
    "train1['purpose'].unique()"
   ]
  },
  {
   "cell_type": "code",
   "execution_count": 7,
   "metadata": {
    "ExecuteTime": {
     "end_time": "2018-09-02T12:11:21.580730Z",
     "start_time": "2018-09-02T12:11:21.572632Z"
    }
   },
   "outputs": [
    {
     "data": {
      "text/plain": [
       "purpose             not_paid\n",
       "credit_card         0           135\n",
       "                    1           112\n",
       "debt_consolidation  0           388\n",
       "                    1           420\n",
       "home_improvement    0            68\n",
       "                    1            58\n",
       "major_purchase      0            18\n",
       "                    1            22\n",
       "small_business      0             8\n",
       "                    1            15\n",
       "Name: Unnamed: 0, dtype: int64"
      ]
     },
     "execution_count": 7,
     "metadata": {},
     "output_type": "execute_result"
    }
   ],
   "source": [
    "train1.groupby(['purpose','not_paid'])['Unnamed: 0'].count()"
   ]
  },
  {
   "cell_type": "code",
   "execution_count": 8,
   "metadata": {
    "ExecuteTime": {
     "end_time": "2018-09-02T12:11:21.854956Z",
     "start_time": "2018-09-02T12:11:21.849062Z"
    }
   },
   "outputs": [
    {
     "data": {
      "text/plain": [
       "not_paid\n",
       "0    617\n",
       "1    627\n",
       "Name: Unnamed: 0, dtype: int64"
      ]
     },
     "execution_count": 8,
     "metadata": {},
     "output_type": "execute_result"
    }
   ],
   "source": [
    "train1.groupby(['not_paid'])['Unnamed: 0'].count()"
   ]
  },
  {
   "cell_type": "code",
   "execution_count": 9,
   "metadata": {},
   "outputs": [
    {
     "data": {
      "image/png": "[encoded data removed]",
      "text/plain": [
       "<Figure size 720x720 with 2 Axes>"
      ]
     },
     "metadata": {},
     "output_type": "display_data"
    }
   ],
   "source": [
    "#Create Correlation df\n",
    "corr = train1.corr()\n",
    "#Plot figsize\n",
    "fig, ax = plt.subplots(figsize=(10, 10))\n",
    "#Generate Color Map, red & blue\n",
    "colormap = sns.diverging_palette(220, 10, as_cmap=True)\n",
    "#Generate Heat Map, allow annotations and place floats in map\n",
    "sns.heatmap(corr, cmap=colormap, annot=True, fmt=\".2f\")\n",
    "#Apply xticks\n",
    "plt.xticks(range(len(corr.columns)), corr.columns);\n",
    "#Apply yticks\n",
    "plt.yticks(range(len(corr.columns)), corr.columns)\n",
    "#show plot\n",
    "plt.show()"
   ]
  },
  {
   "cell_type": "code",
   "execution_count": 20,
   "metadata": {},
   "outputs": [
    {
     "data": {
      "text/plain": [
       "array([23448, 13362,  2372, ..., 23400, 19317,  1137], dtype=int64)"
      ]
     },
     "execution_count": 20,
     "metadata": {},
     "output_type": "execute_result"
    }
   ],
   "source": [
    "#train1[['purpose', 'int_rate', 'installment', 'annual_inc', 'verified', 'home_ownership',  'grdCtoA']]\n",
    "train1['revol_bal'].unique()"
   ]
  },
  {
   "cell_type": "code",
   "execution_count": 30,
   "metadata": {},
   "outputs": [
    {
     "name": "stdout",
     "output_type": "stream",
     "text": [
      "   initial_list_status_f  initial_list_status_w  purpose_credit_card  \\\n",
      "0                      0                      1                    0   \n",
      "1                      0                      1                    0   \n",
      "2                      0                      1                    0   \n",
      "3                      0                      1                    0   \n",
      "4                      1                      0                    0   \n",
      "\n",
      "   purpose_debt_consolidation  purpose_home_improvement  \\\n",
      "0                           1                         0   \n",
      "1                           1                         0   \n",
      "2                           0                         1   \n",
      "3                           0                         1   \n",
      "4                           1                         0   \n",
      "\n",
      "   purpose_major_purchase  purpose_small_business  \\\n",
      "0                       0                       0   \n",
      "1                       0                       0   \n",
      "2                       0                       0   \n",
      "3                       0                       0   \n",
      "4                       0                       0   \n",
      "\n",
      "   verification_status_Not Verified  verification_status_Source Verified  \\\n",
      "0                                 0                                    0   \n",
      "1                                 0                                    1   \n",
      "2                                 0                                    1   \n",
      "3                                 1                                    0   \n",
      "4                                 1                                    0   \n",
      "\n",
      "   verification_status_Verified  home_ownership_MORTGAGE  home_ownership_OWN  \\\n",
      "0                             1                        1                   0   \n",
      "1                             0                        1                   0   \n",
      "2                             0                        1                   0   \n",
      "3                             0                        0                   1   \n",
      "4                             0                        1                   0   \n",
      "\n",
      "   home_ownership_RENT  \n",
      "0                    0  \n",
      "1                    0  \n",
      "2                    0  \n",
      "3                    0  \n",
      "4                    0  \n"
     ]
    }
   ],
   "source": [
    "#change any categorical value into new column\n",
    "train1_onehot = train1[['initial_list_status', 'purpose', 'verification_status', 'home_ownership']]\n",
    "train1_onehot = pd.get_dummies(train1_onehot)\n",
    "\n",
    "print(train1_onehot.head())"
   ]
  },
  {
   "cell_type": "code",
   "execution_count": 31,
   "metadata": {},
   "outputs": [
    {
     "data": {
      "text/plain": [
       "Index(['Unnamed: 0', 'int_rate', 'installment', 'annual_inc', 'dti', 'grade',\n",
       "       'revol_bal', 'inq_last_12m', 'delinq_2yrs', 'not_paid', 'log_inc',\n",
       "       'verified', 'grdCtoA', 'initial_list_status_f', 'initial_list_status_w',\n",
       "       'purpose_credit_card', 'purpose_debt_consolidation',\n",
       "       'purpose_home_improvement', 'purpose_major_purchase',\n",
       "       'purpose_small_business', 'verification_status_Not Verified',\n",
       "       'verification_status_Source Verified', 'verification_status_Verified',\n",
       "       'home_ownership_MORTGAGE', 'home_ownership_OWN', 'home_ownership_RENT'],\n",
       "      dtype='object')"
      ]
     },
     "execution_count": 31,
     "metadata": {},
     "output_type": "execute_result"
    }
   ],
   "source": [
    "train1_final = pd.concat([train1, train1_onehot], axis=1)\n",
    "train1_final = train1_final.drop(['initial_list_status', 'purpose', 'verification_status', 'home_ownership'], axis=1)\n",
    "\n",
    "train1_final.columns"
   ]
  },
  {
   "cell_type": "markdown",
   "metadata": {},
   "source": [
    "Q4 and Q5 Question"
   ]
  },
  {
   "cell_type": "code",
   "execution_count": 32,
   "metadata": {
    "ExecuteTime": {
     "end_time": "2018-09-02T12:11:22.651885Z",
     "start_time": "2018-09-02T12:11:22.649272Z"
    }
   },
   "outputs": [],
   "source": [
    "from sklearn.linear_model import LogisticRegression\n",
    "from sklearn.preprocessing import LabelEncoder, StandardScaler"
   ]
  },
  {
   "cell_type": "code",
   "execution_count": 43,
   "metadata": {},
   "outputs": [
    {
     "data": {
      "text/plain": [
       "LogisticRegression(C=1.0, class_weight=None, dual=False, fit_intercept=True,\n",
       "          intercept_scaling=1, max_iter=100, multi_class='ovr', n_jobs=1,\n",
       "          penalty='l2', random_state=None, solver='liblinear', tol=0.0001,\n",
       "          verbose=0, warm_start=False)"
      ]
     },
     "execution_count": 43,
     "metadata": {},
     "output_type": "execute_result"
    }
   ],
   "source": [
    "final_model = LogisticRegression()\n",
    "final_model.fit(\n",
    "    train1_final[['int_rate', 'installment', 'annual_inc',\n",
    "       'purpose_credit_card', 'purpose_debt_consolidation',\n",
    "       'purpose_home_improvement', 'purpose_major_purchase',\n",
    "       'purpose_small_business', 'verification_status_Not Verified',\n",
    "       'verification_status_Source Verified', 'verification_status_Verified',\n",
    "       'home_ownership_MORTGAGE', 'home_ownership_OWN', 'home_ownership_RENT', 'grdCtoA']],\n",
    "    train1_final['not_paid']\n",
    ")"
   ]
  },
  {
   "cell_type": "code",
   "execution_count": 44,
   "metadata": {},
   "outputs": [
    {
     "data": {
      "text/html": [
       "<div>\n",
       "<style scoped>\n",
       "    .dataframe tbody tr th:only-of-type {\n",
       "        vertical-align: middle;\n",
       "    }\n",
       "\n",
       "    .dataframe tbody tr th {\n",
       "        vertical-align: top;\n",
       "    }\n",
       "\n",
       "    .dataframe thead th {\n",
       "        text-align: right;\n",
       "    }\n",
       "</style>\n",
       "<table border=\"1\" class=\"dataframe\">\n",
       "  <thead>\n",
       "    <tr style=\"text-align: right;\">\n",
       "      <th></th>\n",
       "      <th>int_rate</th>\n",
       "      <th>installment</th>\n",
       "      <th>annual_inc</th>\n",
       "      <th>purpose_credit_card</th>\n",
       "      <th>purpose_debt_consolidation</th>\n",
       "      <th>purpose_home_improvement</th>\n",
       "      <th>purpose_major_purchase</th>\n",
       "      <th>purpose_small_business</th>\n",
       "      <th>verification_status_Not Verified</th>\n",
       "      <th>verification_status_Source Verified</th>\n",
       "      <th>verification_status_Verified</th>\n",
       "      <th>home_ownership_MORTGAGE</th>\n",
       "      <th>home_ownership_OWN</th>\n",
       "      <th>home_ownership_RENT</th>\n",
       "      <th>grdCtoA</th>\n",
       "    </tr>\n",
       "  </thead>\n",
       "  <tbody>\n",
       "    <tr>\n",
       "      <th>0</th>\n",
       "      <td>0.010296</td>\n",
       "      <td>0.000903</td>\n",
       "      <td>-0.000006</td>\n",
       "      <td>-0.001595</td>\n",
       "      <td>-0.000571</td>\n",
       "      <td>-0.000732</td>\n",
       "      <td>0.000167</td>\n",
       "      <td>0.000347</td>\n",
       "      <td>-0.003675</td>\n",
       "      <td>0.000056</td>\n",
       "      <td>0.001234</td>\n",
       "      <td>-0.00293</td>\n",
       "      <td>0.000925</td>\n",
       "      <td>-0.00038</td>\n",
       "      <td>-0.005095</td>\n",
       "    </tr>\n",
       "  </tbody>\n",
       "</table>\n",
       "</div>"
      ],
      "text/plain": [
       "   int_rate  installment  annual_inc  purpose_credit_card  \\\n",
       "0  0.010296     0.000903   -0.000006            -0.001595   \n",
       "\n",
       "   purpose_debt_consolidation  purpose_home_improvement  \\\n",
       "0                   -0.000571                 -0.000732   \n",
       "\n",
       "   purpose_major_purchase  purpose_small_business  \\\n",
       "0                0.000167                0.000347   \n",
       "\n",
       "   verification_status_Not Verified  verification_status_Source Verified  \\\n",
       "0                         -0.003675                             0.000056   \n",
       "\n",
       "   verification_status_Verified  home_ownership_MORTGAGE  home_ownership_OWN  \\\n",
       "0                      0.001234                 -0.00293            0.000925   \n",
       "\n",
       "   home_ownership_RENT   grdCtoA  \n",
       "0             -0.00038 -0.005095  "
      ]
     },
     "execution_count": 44,
     "metadata": {},
     "output_type": "execute_result"
    }
   ],
   "source": [
    "pd.DataFrame(\n",
    "    final_model.coef_.astype(float),\n",
    "    columns=['int_rate', 'installment', 'annual_inc',\n",
    "       'purpose_credit_card', 'purpose_debt_consolidation',\n",
    "       'purpose_home_improvement', 'purpose_major_purchase',\n",
    "       'purpose_small_business', 'verification_status_Not Verified',\n",
    "       'verification_status_Source Verified', 'verification_status_Verified',\n",
    "       'home_ownership_MORTGAGE', 'home_ownership_OWN', 'home_ownership_RENT', 'grdCtoA']\n",
    ")"
   ]
  },
  {
   "cell_type": "code",
   "execution_count": 34,
   "metadata": {
    "ExecuteTime": {
     "end_time": "2018-09-02T12:15:03.132613Z",
     "start_time": "2018-09-02T12:15:03.125707Z"
    },
    "scrolled": true
   },
   "outputs": [
    {
     "data": {
      "text/html": [
       "<div>\n",
       "<style scoped>\n",
       "    .dataframe tbody tr th:only-of-type {\n",
       "        vertical-align: middle;\n",
       "    }\n",
       "\n",
       "    .dataframe tbody tr th {\n",
       "        vertical-align: top;\n",
       "    }\n",
       "\n",
       "    .dataframe thead th {\n",
       "        text-align: right;\n",
       "    }\n",
       "</style>\n",
       "<table border=\"1\" class=\"dataframe\">\n",
       "  <thead>\n",
       "    <tr style=\"text-align: right;\">\n",
       "      <th></th>\n",
       "      <th>Unnamed: 0</th>\n",
       "      <th>initial_list_status</th>\n",
       "      <th>purpose</th>\n",
       "      <th>int_rate</th>\n",
       "      <th>installment</th>\n",
       "      <th>annual_inc</th>\n",
       "      <th>dti</th>\n",
       "      <th>verification_status</th>\n",
       "      <th>grade</th>\n",
       "      <th>revol_bal</th>\n",
       "      <th>inq_last_12m</th>\n",
       "      <th>delinq_2yrs</th>\n",
       "      <th>home_ownership</th>\n",
       "      <th>not_paid</th>\n",
       "      <th>log_inc</th>\n",
       "      <th>verified</th>\n",
       "      <th>grdCtoA</th>\n",
       "    </tr>\n",
       "  </thead>\n",
       "  <tbody>\n",
       "    <tr>\n",
       "      <th>0</th>\n",
       "      <td>1495</td>\n",
       "      <td>w</td>\n",
       "      <td>1</td>\n",
       "      <td>21.45</td>\n",
       "      <td>955.75</td>\n",
       "      <td>90000.0</td>\n",
       "      <td>20.91</td>\n",
       "      <td>Verified</td>\n",
       "      <td>D</td>\n",
       "      <td>23448</td>\n",
       "      <td>4</td>\n",
       "      <td>0</td>\n",
       "      <td>0</td>\n",
       "      <td>1</td>\n",
       "      <td>11.407565</td>\n",
       "      <td>1</td>\n",
       "      <td>0</td>\n",
       "    </tr>\n",
       "    <tr>\n",
       "      <th>1</th>\n",
       "      <td>266</td>\n",
       "      <td>w</td>\n",
       "      <td>1</td>\n",
       "      <td>18.06</td>\n",
       "      <td>289.47</td>\n",
       "      <td>65000.0</td>\n",
       "      <td>12.74</td>\n",
       "      <td>Source Verified</td>\n",
       "      <td>D</td>\n",
       "      <td>13362</td>\n",
       "      <td>2</td>\n",
       "      <td>0</td>\n",
       "      <td>0</td>\n",
       "      <td>1</td>\n",
       "      <td>11.082143</td>\n",
       "      <td>1</td>\n",
       "      <td>0</td>\n",
       "    </tr>\n",
       "    <tr>\n",
       "      <th>2</th>\n",
       "      <td>309</td>\n",
       "      <td>w</td>\n",
       "      <td>2</td>\n",
       "      <td>9.44</td>\n",
       "      <td>838.91</td>\n",
       "      <td>97400.0</td>\n",
       "      <td>12.64</td>\n",
       "      <td>Source Verified</td>\n",
       "      <td>B</td>\n",
       "      <td>2372</td>\n",
       "      <td>1</td>\n",
       "      <td>0</td>\n",
       "      <td>0</td>\n",
       "      <td>1</td>\n",
       "      <td>11.486581</td>\n",
       "      <td>1</td>\n",
       "      <td>1</td>\n",
       "    </tr>\n",
       "    <tr>\n",
       "      <th>3</th>\n",
       "      <td>239</td>\n",
       "      <td>w</td>\n",
       "      <td>2</td>\n",
       "      <td>10.42</td>\n",
       "      <td>214.55</td>\n",
       "      <td>60000.0</td>\n",
       "      <td>2.38</td>\n",
       "      <td>Not Verified</td>\n",
       "      <td>B</td>\n",
       "      <td>4705</td>\n",
       "      <td>2</td>\n",
       "      <td>0</td>\n",
       "      <td>1</td>\n",
       "      <td>0</td>\n",
       "      <td>11.002100</td>\n",
       "      <td>0</td>\n",
       "      <td>1</td>\n",
       "    </tr>\n",
       "    <tr>\n",
       "      <th>4</th>\n",
       "      <td>136</td>\n",
       "      <td>f</td>\n",
       "      <td>1</td>\n",
       "      <td>11.99</td>\n",
       "      <td>1024.52</td>\n",
       "      <td>150000.0</td>\n",
       "      <td>20.84</td>\n",
       "      <td>Not Verified</td>\n",
       "      <td>B</td>\n",
       "      <td>14342</td>\n",
       "      <td>0</td>\n",
       "      <td>0</td>\n",
       "      <td>0</td>\n",
       "      <td>0</td>\n",
       "      <td>11.918391</td>\n",
       "      <td>0</td>\n",
       "      <td>1</td>\n",
       "    </tr>\n",
       "  </tbody>\n",
       "</table>\n",
       "</div>"
      ],
      "text/plain": [
       "   Unnamed: 0 initial_list_status  purpose  int_rate  installment  annual_inc  \\\n",
       "0        1495                   w        1     21.45       955.75     90000.0   \n",
       "1         266                   w        1     18.06       289.47     65000.0   \n",
       "2         309                   w        2      9.44       838.91     97400.0   \n",
       "3         239                   w        2     10.42       214.55     60000.0   \n",
       "4         136                   f        1     11.99      1024.52    150000.0   \n",
       "\n",
       "     dti verification_status grade  revol_bal  inq_last_12m  delinq_2yrs  \\\n",
       "0  20.91            Verified     D      23448             4            0   \n",
       "1  12.74     Source Verified     D      13362             2            0   \n",
       "2  12.64     Source Verified     B       2372             1            0   \n",
       "3   2.38        Not Verified     B       4705             2            0   \n",
       "4  20.84        Not Verified     B      14342             0            0   \n",
       "\n",
       "   home_ownership  not_paid    log_inc  verified  grdCtoA  \n",
       "0               0         1  11.407565         1        0  \n",
       "1               0         1  11.082143         1        0  \n",
       "2               0         1  11.486581         1        1  \n",
       "3               1         0  11.002100         0        1  \n",
       "4               0         0  11.918391         0        1  "
      ]
     },
     "execution_count": 34,
     "metadata": {},
     "output_type": "execute_result"
    }
   ],
   "source": [
    "for col in ['purpose','home_ownership']:\n",
    "    le1 = LabelEncoder().fit(train1[col])\n",
    "    train1[col] = le1.transform(train1[col])\n",
    "    test1[col] = le1.transform(test1[col])\n",
    "    \n",
    "train1.head()"
   ]
  },
  {
   "cell_type": "code",
   "execution_count": 41,
   "metadata": {
    "ExecuteTime": {
     "end_time": "2018-09-02T12:16:51.400803Z",
     "start_time": "2018-09-02T12:16:51.393465Z"
    }
   },
   "outputs": [
    {
     "data": {
      "text/plain": [
       "LogisticRegression(C=1.0, class_weight=None, dual=False, fit_intercept=True,\n",
       "          intercept_scaling=1, max_iter=100, multi_class='ovr', n_jobs=1,\n",
       "          penalty='l2', random_state=None, solver='liblinear', tol=0.0001,\n",
       "          verbose=0, warm_start=False)"
      ]
     },
     "execution_count": 41,
     "metadata": {},
     "output_type": "execute_result"
    }
   ],
   "source": [
    "model1 = LogisticRegression()\n",
    "model1.fit(\n",
    "    train1[['purpose', 'int_rate', 'installment', 'annual_inc', 'verified', 'home_ownership',  'grdCtoA']],\n",
    "    train1['not_paid']\n",
    ")"
   ]
  },
  {
   "cell_type": "code",
   "execution_count": 42,
   "metadata": {
    "ExecuteTime": {
     "end_time": "2018-09-02T12:18:16.028031Z",
     "start_time": "2018-09-02T12:18:16.016201Z"
    }
   },
   "outputs": [
    {
     "data": {
      "text/html": [
       "<div>\n",
       "<style scoped>\n",
       "    .dataframe tbody tr th:only-of-type {\n",
       "        vertical-align: middle;\n",
       "    }\n",
       "\n",
       "    .dataframe tbody tr th {\n",
       "        vertical-align: top;\n",
       "    }\n",
       "\n",
       "    .dataframe thead th {\n",
       "        text-align: right;\n",
       "    }\n",
       "</style>\n",
       "<table border=\"1\" class=\"dataframe\">\n",
       "  <thead>\n",
       "    <tr style=\"text-align: right;\">\n",
       "      <th></th>\n",
       "      <th>purpose</th>\n",
       "      <th>int_rate</th>\n",
       "      <th>installment</th>\n",
       "      <th>annual_inc</th>\n",
       "      <th>verified</th>\n",
       "      <th>home_ownership</th>\n",
       "      <th>grdCtoA</th>\n",
       "    </tr>\n",
       "  </thead>\n",
       "  <tbody>\n",
       "    <tr>\n",
       "      <th>0</th>\n",
       "      <td>-0.000321</td>\n",
       "      <td>0.009102</td>\n",
       "      <td>0.000922</td>\n",
       "      <td>-0.000006</td>\n",
       "      <td>0.00151</td>\n",
       "      <td>0.000019</td>\n",
       "      <td>-0.006316</td>\n",
       "    </tr>\n",
       "  </tbody>\n",
       "</table>\n",
       "</div>"
      ],
      "text/plain": [
       "    purpose  int_rate  installment  annual_inc  verified  home_ownership  \\\n",
       "0 -0.000321  0.009102     0.000922   -0.000006   0.00151        0.000019   \n",
       "\n",
       "    grdCtoA  \n",
       "0 -0.006316  "
      ]
     },
     "execution_count": 42,
     "metadata": {},
     "output_type": "execute_result"
    }
   ],
   "source": [
    "pd.DataFrame(\n",
    "    model1.coef_.astype(float),\n",
    "    columns=['purpose', 'int_rate', 'installment', 'annual_inc', 'verified', 'home_ownership',  'grdCtoA']\n",
    ")"
   ]
  },
  {
   "cell_type": "code",
   "execution_count": null,
   "metadata": {
    "ExecuteTime": {
     "end_time": "2018-09-02T12:22:47.675039Z",
     "start_time": "2018-09-02T12:22:47.671266Z"
    }
   },
   "outputs": [],
   "source": [
    "97 / (97+54)"
   ]
  },
  {
   "cell_type": "markdown",
   "metadata": {},
   "source": [
    "Dataset 2"
   ]
  },
  {
   "cell_type": "code",
   "execution_count": null,
   "metadata": {
    "ExecuteTime": {
     "end_time": "2018-09-02T12:26:08.694258Z",
     "start_time": "2018-09-02T12:26:08.692021Z"
    }
   },
   "outputs": [],
   "source": [
    "from sklearn.tree import DecisionTreeClassifier"
   ]
  },
  {
   "cell_type": "code",
   "execution_count": null,
   "metadata": {
    "ExecuteTime": {
     "end_time": "2018-09-02T12:30:54.807065Z",
     "start_time": "2018-09-02T12:30:54.788956Z"
    }
   },
   "outputs": [],
   "source": [
    "train2.head()"
   ]
  },
  {
   "cell_type": "code",
   "execution_count": null,
   "metadata": {
    "ExecuteTime": {
     "end_time": "2018-09-02T12:30:49.971885Z",
     "start_time": "2018-09-02T12:30:49.953699Z"
    }
   },
   "outputs": [],
   "source": [
    "for col in ['checking_balance','credit_history','purpose','savings_balance','employment_duration','other_credit','housing','job','phone','default']:\n",
    "    le2 = LabelEncoder().fit(train2[col])\n",
    "    train2[col] = le2.transform(train2[col])\n",
    "    test2[col] = le2.transform(test2[col])"
   ]
  },
  {
   "cell_type": "code",
   "execution_count": null,
   "metadata": {
    "ExecuteTime": {
     "end_time": "2018-09-02T12:31:05.961686Z",
     "start_time": "2018-09-02T12:31:05.944375Z"
    }
   },
   "outputs": [],
   "source": [
    "model2 = DecisionTreeClassifier()\n",
    "model2.fit(train2.drop(['Unnamed: 0','default'],axis=1), train2['default'])"
   ]
  },
  {
   "cell_type": "code",
   "execution_count": null,
   "metadata": {
    "ExecuteTime": {
     "end_time": "2018-09-02T12:34:06.987691Z",
     "start_time": "2018-09-02T12:34:06.976324Z"
    }
   },
   "outputs": [],
   "source": [
    "pd.DataFrame(\n",
    "    {'importance': model2.feature_importances_,\n",
    "    'variable': ['checking_balance', 'months_loan_duration',\n",
    "       'credit_history', 'purpose', 'amount', 'savings_balance',\n",
    "       'employment_duration', 'percent_of_income', 'years_at_residence', 'age',\n",
    "       'other_credit', 'housing', 'existing_loans_count', 'job', 'dependents',\n",
    "       'phone']\n",
    "    }\n",
    ").sort_values(by='importance',ascending=False)"
   ]
  },
  {
   "cell_type": "code",
   "execution_count": null,
   "metadata": {
    "ExecuteTime": {
     "end_time": "2018-09-02T12:35:25.755865Z",
     "start_time": "2018-09-02T12:35:25.751735Z"
    }
   },
   "outputs": [],
   "source": [
    "16+12"
   ]
  },
  {
   "cell_type": "code",
   "execution_count": null,
   "metadata": {
    "ExecuteTime": {
     "end_time": "2018-09-02T12:38:30.574339Z",
     "start_time": "2018-09-02T12:38:30.571665Z"
    }
   },
   "outputs": [],
   "source": [
    "tp = 15\n",
    "fp = 12\n",
    "tn = 57\n",
    "fn = 16\n",
    "\n",
    "precision = tp / (tp+fp)\n",
    "recall = tp / (tp+fn)"
   ]
  },
  {
   "cell_type": "code",
   "execution_count": null,
   "metadata": {
    "ExecuteTime": {
     "end_time": "2018-09-02T12:38:36.592606Z",
     "start_time": "2018-09-02T12:38:36.588855Z"
    }
   },
   "outputs": [],
   "source": [
    "precision, recall"
   ]
  },
  {
   "cell_type": "code",
   "execution_count": null,
   "metadata": {},
   "outputs": [],
   "source": [
    "tp = 93\n",
    "fp = 54\n",
    "tn = 68\n",
    "fn = 97\n",
    "\n",
    "precision = tp / (tp+fp)\n",
    "recall = tp / (tp+fn)\n",
    "\n",
    "precision, recall"
   ]
  }
 ],
 "metadata": {
  "hide_input": false,
  "kernelspec": {
   "display_name": "Python 3",
   "language": "python",
   "name": "python3"
  },
  "language_info": {
   "codemirror_mode": {
    "name": "ipython",
    "version": 3
   },
   "file_extension": ".py",
   "mimetype": "text/x-python",
   "name": "python",
   "nbconvert_exporter": "python",
   "pygments_lexer": "ipython3",
   "version": "3.6.5"
  },
  "toc": {
   "base_numbering": 1,
   "nav_menu": {},
   "number_sections": true,
   "sideBar": true,
   "skip_h1_title": false,
   "title_cell": "Table of Contents",
   "title_sidebar": "Contents",
   "toc_cell": false,
   "toc_position": {},
   "toc_section_display": true,
   "toc_window_display": false
  }
 },
 "nbformat": 4,
 "nbformat_minor": 2
}
